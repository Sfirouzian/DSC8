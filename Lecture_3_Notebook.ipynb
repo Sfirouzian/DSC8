{
  "nbformat": 4,
  "nbformat_minor": 0,
  "metadata": {
    "colab": {
      "provenance": [],
      "collapsed_sections": []
    },
    "kernelspec": {
      "name": "python3",
      "display_name": "Python 3"
    }
  },
  "cells": [
    {
      "cell_type": "code",
      "metadata": {
        "id": "Pn35alqiT69n"
      },
      "source": [
        "from datascience import *\n",
        "import numpy as np\n",
        "\n",
        "%matplotlib inline\n",
        "import matplotlib.pyplot as plots\n",
        "plots.style.use('fivethirtyeight')"
      ],
      "execution_count": null,
      "outputs": []
    },
    {
      "cell_type": "markdown",
      "metadata": {
        "id": "ajaPizajT69s"
      },
      "source": [
        "## Words of Caution ##\n",
        "- Remember to run the cell above. It's for setting up the environment so you can have access to what's needed for this lecture. For now, don't worry about what it means: we'll learn more about what's inside of it in the next few lectures.\n",
        "- Data science is not just about code, so please don't go over this notebook by itself. Have the relevant textbook sections or lecture video at hand so that you can go over the discussion along with the code. Thank you! "
      ]
    },
    {
      "cell_type": "markdown",
      "metadata": {
        "id": "78Firy7VT69t"
      },
      "source": [
        "## Python ##"
      ]
    },
    {
      "cell_type": "code",
      "metadata": {
        "scrolled": true,
        "id": "mMuIh6RHT69t",
        "colab": {
          "base_uri": "https://localhost:8080/"
        },
        "outputId": "5c5145ab-2ec2-4f03-e484-a732f0e0e572"
      },
      "source": [
        "2 + 9"
      ],
      "execution_count": null,
      "outputs": [
        {
          "output_type": "execute_result",
          "data": {
            "text/plain": [
              "11"
            ]
          },
          "metadata": {},
          "execution_count": 2
        }
      ]
    },
    {
      "cell_type": "code",
      "metadata": {
        "id": "OZh7JaG0T69t",
        "colab": {
          "base_uri": "https://localhost:8080/"
        },
        "outputId": "574a87c6-df4b-470b-af4b-9f1d7bc72ac0"
      },
      "source": [
        "2 * 9"
      ],
      "execution_count": null,
      "outputs": [
        {
          "output_type": "execute_result",
          "data": {
            "text/plain": [
              "18"
            ]
          },
          "metadata": {},
          "execution_count": 3
        }
      ]
    },
    {
      "cell_type": "code",
      "metadata": {
        "id": "097PlexhT69t",
        "colab": {
          "base_uri": "https://localhost:8080/"
        },
        "outputId": "f34cd7c2-1610-4cc4-818e-e4379f8146a3"
      },
      "source": [
        "2 / 9"
      ],
      "execution_count": null,
      "outputs": [
        {
          "output_type": "execute_result",
          "data": {
            "text/plain": [
              "0.2222222222222222"
            ]
          },
          "metadata": {},
          "execution_count": 4
        }
      ]
    },
    {
      "cell_type": "code",
      "metadata": {
        "id": "SJ7oFJTbT69u",
        "colab": {
          "base_uri": "https://localhost:8080/"
        },
        "outputId": "809e2740-1ea4-4b0e-d009-0a3b6dba6369"
      },
      "source": [
        "2 + 3 * 9"
      ],
      "execution_count": null,
      "outputs": [
        {
          "output_type": "execute_result",
          "data": {
            "text/plain": [
              "29"
            ]
          },
          "metadata": {},
          "execution_count": 5
        }
      ]
    },
    {
      "cell_type": "code",
      "metadata": {
        "id": "UT-KMoqVT69u",
        "colab": {
          "base_uri": "https://localhost:8080/"
        },
        "outputId": "21225045-c642-4ba0-9298-a952264831bb"
      },
      "source": [
        "(2 + 3) * 9"
      ],
      "execution_count": null,
      "outputs": [
        {
          "output_type": "execute_result",
          "data": {
            "text/plain": [
              "45"
            ]
          },
          "metadata": {},
          "execution_count": 6
        }
      ]
    },
    {
      "cell_type": "code",
      "metadata": {
        "id": "cW1oml5ZT69u",
        "colab": {
          "base_uri": "https://localhost:8080/"
        },
        "outputId": "e49e816f-185f-44af-f31f-46e02ef28157"
      },
      "source": [
        "# two to the power of four: 2 * 2 * 2 * 2\n",
        "2 ** 4"
      ],
      "execution_count": null,
      "outputs": [
        {
          "output_type": "execute_result",
          "data": {
            "text/plain": [
              "16"
            ]
          },
          "metadata": {},
          "execution_count": 7
        }
      ]
    },
    {
      "cell_type": "code",
      "metadata": {
        "id": "pmZyduEaT69u",
        "colab": {
          "base_uri": "https://localhost:8080/",
          "height": 35
        },
        "outputId": "155d82eb-4a21-4b0c-db5c-13f7f815c707"
      },
      "source": [
        "'hello'"
      ],
      "execution_count": null,
      "outputs": [
        {
          "output_type": "execute_result",
          "data": {
            "text/plain": [
              "'hello'"
            ],
            "application/vnd.google.colaboratory.intrinsic+json": {
              "type": "string"
            }
          },
          "metadata": {},
          "execution_count": 8
        }
      ]
    },
    {
      "cell_type": "markdown",
      "metadata": {
        "id": "4PPjUhnPT69u"
      },
      "source": [
        "## Names ##"
      ]
    },
    {
      "cell_type": "code",
      "metadata": {
        "id": "rhCltu4BT69v"
      },
      "source": [
        "a = 4"
      ],
      "execution_count": null,
      "outputs": []
    },
    {
      "cell_type": "code",
      "metadata": {
        "id": "EvmYcPyaT69v",
        "colab": {
          "base_uri": "https://localhost:8080/"
        },
        "outputId": "67c56450-f0bb-4622-fdfb-5b67dcdbc9ab"
      },
      "source": [
        "a"
      ],
      "execution_count": null,
      "outputs": [
        {
          "output_type": "execute_result",
          "data": {
            "text/plain": [
              "4"
            ]
          },
          "metadata": {},
          "execution_count": 10
        }
      ]
    },
    {
      "cell_type": "code",
      "metadata": {
        "id": "v4HYFCqmT69v"
      },
      "source": [
        "b = 9"
      ],
      "execution_count": null,
      "outputs": []
    },
    {
      "cell_type": "code",
      "metadata": {
        "id": "bfe8uZYdT69v",
        "colab": {
          "base_uri": "https://localhost:8080/"
        },
        "outputId": "847071f8-249e-4e1b-845e-3bf7939bbdd3"
      },
      "source": [
        "b"
      ],
      "execution_count": null,
      "outputs": [
        {
          "output_type": "execute_result",
          "data": {
            "text/plain": [
              "9"
            ]
          },
          "metadata": {},
          "execution_count": 12
        }
      ]
    },
    {
      "cell_type": "code",
      "metadata": {
        "id": "w-UjpZBcT69w",
        "colab": {
          "base_uri": "https://localhost:8080/"
        },
        "outputId": "950c0116-b09f-4002-eb07-aadfe5749c10"
      },
      "source": [
        "a * 3"
      ],
      "execution_count": null,
      "outputs": [
        {
          "output_type": "execute_result",
          "data": {
            "text/plain": [
              "12"
            ]
          },
          "metadata": {},
          "execution_count": 13
        }
      ]
    },
    {
      "cell_type": "code",
      "metadata": {
        "id": "wQkpLot5T69w"
      },
      "source": [
        "total = a + b"
      ],
      "execution_count": null,
      "outputs": []
    },
    {
      "cell_type": "code",
      "metadata": {
        "scrolled": true,
        "id": "5F1TUwPdT69x",
        "colab": {
          "base_uri": "https://localhost:8080/"
        },
        "outputId": "230de8b6-c4fe-4894-da4f-66a385986019"
      },
      "source": [
        "total"
      ],
      "execution_count": null,
      "outputs": [
        {
          "output_type": "execute_result",
          "data": {
            "text/plain": [
              "13"
            ]
          },
          "metadata": {},
          "execution_count": 15
        }
      ]
    },
    {
      "cell_type": "code",
      "metadata": {
        "id": "vyFn5MtdT69x"
      },
      "source": [
        "a = 10"
      ],
      "execution_count": null,
      "outputs": []
    },
    {
      "cell_type": "code",
      "metadata": {
        "id": "vvJIjFcMT69x",
        "colab": {
          "base_uri": "https://localhost:8080/"
        },
        "outputId": "daac0bcd-ac4e-4feb-a9c8-242551766f36"
      },
      "source": [
        "total"
      ],
      "execution_count": null,
      "outputs": [
        {
          "output_type": "execute_result",
          "data": {
            "text/plain": [
              "13"
            ]
          },
          "metadata": {
            "tags": []
          },
          "execution_count": 17
        }
      ]
    },
    {
      "cell_type": "code",
      "metadata": {
        "id": "PESjkYY1T69x"
      },
      "source": [
        "total = a + b"
      ],
      "execution_count": null,
      "outputs": []
    },
    {
      "cell_type": "code",
      "metadata": {
        "id": "hc3G7YG8T69x",
        "colab": {
          "base_uri": "https://localhost:8080/"
        },
        "outputId": "2b05dd20-8f07-4441-f0b4-c4442953a5df"
      },
      "source": [
        "total"
      ],
      "execution_count": null,
      "outputs": [
        {
          "output_type": "execute_result",
          "data": {
            "text/plain": [
              "19"
            ]
          },
          "metadata": {
            "tags": []
          },
          "execution_count": 19
        }
      ]
    },
    {
      "cell_type": "code",
      "metadata": {
        "id": "-UBDxQbhT69x",
        "colab": {
          "base_uri": "https://localhost:8080/",
          "height": 35
        },
        "outputId": "1e78217d-3b48-4c54-d4b4-bc74ef770531"
      },
      "source": [
        "'total'"
      ],
      "execution_count": null,
      "outputs": [
        {
          "output_type": "execute_result",
          "data": {
            "text/plain": [
              "'total'"
            ],
            "application/vnd.google.colaboratory.intrinsic+json": {
              "type": "string"
            }
          },
          "metadata": {},
          "execution_count": 16
        }
      ]
    },
    {
      "cell_type": "markdown",
      "metadata": {
        "id": "7K7Y06LqT69y"
      },
      "source": [
        "### Why Names?"
      ]
    },
    {
      "cell_type": "code",
      "metadata": {
        "id": "BMdtOsDFT69y"
      },
      "source": [
        "hours_per_week = 40\n",
        "weeks_per_year = 52"
      ],
      "execution_count": null,
      "outputs": []
    },
    {
      "cell_type": "code",
      "metadata": {
        "id": "cra_6miCT69y"
      },
      "source": [
        "hours_per_year = hours_per_week * weeks_per_year"
      ],
      "execution_count": null,
      "outputs": []
    },
    {
      "cell_type": "code",
      "metadata": {
        "id": "Qj8ev1rvT69y",
        "colab": {
          "base_uri": "https://localhost:8080/"
        },
        "outputId": "aafd421d-9a36-4ba6-e1a6-9b38eee41a93"
      },
      "source": [
        "hours_per_year"
      ],
      "execution_count": null,
      "outputs": [
        {
          "output_type": "execute_result",
          "data": {
            "text/plain": [
              "2080"
            ]
          },
          "metadata": {},
          "execution_count": 19
        }
      ]
    },
    {
      "cell_type": "code",
      "metadata": {
        "id": "hCw_swXcT69y"
      },
      "source": [
        "# Minimum wage for businesses w/26 or more employees\n",
        "# Goes up by $1/hr until 2022\n",
        "ca_hourly_minimum_wage = 13.00"
      ],
      "execution_count": null,
      "outputs": []
    },
    {
      "cell_type": "code",
      "metadata": {
        "id": "_Bs_DX2ET69y",
        "colab": {
          "base_uri": "https://localhost:8080/"
        },
        "outputId": "3acbb1be-08d5-485f-99f0-8aeef6a45c95"
      },
      "source": [
        "weekly_wages = hours_per_week * ca_hourly_minimum_wage\n",
        "weekly_wages"
      ],
      "execution_count": null,
      "outputs": [
        {
          "output_type": "execute_result",
          "data": {
            "text/plain": [
              "520.0"
            ]
          },
          "metadata": {},
          "execution_count": 21
        }
      ]
    },
    {
      "cell_type": "code",
      "metadata": {
        "id": "b6xVOdALT69z",
        "colab": {
          "base_uri": "https://localhost:8080/"
        },
        "outputId": "e2f82ed7-8c2a-41bf-e13b-13b362534e91"
      },
      "source": [
        "yearly_wages = hours_per_year * ca_hourly_minimum_wage\n",
        "yearly_wages"
      ],
      "execution_count": null,
      "outputs": [
        {
          "output_type": "execute_result",
          "data": {
            "text/plain": [
              "27040.0"
            ]
          },
          "metadata": {},
          "execution_count": 22
        }
      ]
    },
    {
      "cell_type": "code",
      "metadata": {
        "id": "H-YD304tT69z",
        "colab": {
          "base_uri": "https://localhost:8080/"
        },
        "outputId": "5cf3c9a2-5526-4d2f-96b4-7d55d4992ed8"
      },
      "source": [
        "40 * 13.00"
      ],
      "execution_count": null,
      "outputs": [
        {
          "output_type": "execute_result",
          "data": {
            "text/plain": [
              "520.0"
            ]
          },
          "metadata": {},
          "execution_count": 23
        }
      ]
    },
    {
      "cell_type": "code",
      "metadata": {
        "id": "FP-gYZ0lT69z",
        "colab": {
          "base_uri": "https://localhost:8080/"
        },
        "outputId": "ec9aa9c1-8119-4bcd-cc8a-6dfe4f14e138"
      },
      "source": [
        "40 * 52 * 13.00"
      ],
      "execution_count": null,
      "outputs": [
        {
          "output_type": "execute_result",
          "data": {
            "text/plain": [
              "27040.0"
            ]
          },
          "metadata": {},
          "execution_count": 24
        }
      ]
    },
    {
      "cell_type": "markdown",
      "metadata": {
        "id": "3yLcC7QxT69z"
      },
      "source": [
        "## Functions and Call Expressions"
      ]
    },
    {
      "cell_type": "code",
      "metadata": {
        "id": "x_UJrH1ST69z",
        "colab": {
          "base_uri": "https://localhost:8080/"
        },
        "outputId": "fdd8f99f-5528-443b-bdde-3bd1dd7f06ba"
      },
      "source": [
        "abs(-5)"
      ],
      "execution_count": null,
      "outputs": [
        {
          "output_type": "execute_result",
          "data": {
            "text/plain": [
              "5"
            ]
          },
          "metadata": {},
          "execution_count": 25
        }
      ]
    },
    {
      "cell_type": "code",
      "metadata": {
        "id": "MOSJJESGT69z",
        "colab": {
          "base_uri": "https://localhost:8080/"
        },
        "outputId": "61aa6fcc-9fe0-44dd-a257-96ba7d24c180"
      },
      "source": [
        "abs(1 - 3)"
      ],
      "execution_count": null,
      "outputs": [
        {
          "output_type": "execute_result",
          "data": {
            "text/plain": [
              "2"
            ]
          },
          "metadata": {
            "tags": []
          },
          "execution_count": 30
        }
      ]
    },
    {
      "cell_type": "code",
      "metadata": {
        "id": "wxNMZyGDT69z",
        "colab": {
          "base_uri": "https://localhost:8080/"
        },
        "outputId": "ce37b78c-64b9-4b0d-f4b8-ac47c6b8806b"
      },
      "source": [
        "day_temp = 52\n",
        "night_temp = 47\n",
        "abs(night_temp - day_temp)"
      ],
      "execution_count": null,
      "outputs": [
        {
          "output_type": "execute_result",
          "data": {
            "text/plain": [
              "5"
            ]
          },
          "metadata": {},
          "execution_count": 26
        }
      ]
    },
    {
      "cell_type": "code",
      "metadata": {
        "id": "1eJWiXhnT690",
        "colab": {
          "base_uri": "https://localhost:8080/"
        },
        "outputId": "7c8ce877-44a8-475b-a3f8-ccf22868af83"
      },
      "source": [
        "min(14, 15)"
      ],
      "execution_count": null,
      "outputs": [
        {
          "output_type": "execute_result",
          "data": {
            "text/plain": [
              "14"
            ]
          },
          "metadata": {},
          "execution_count": 27
        }
      ]
    },
    {
      "cell_type": "code",
      "metadata": {
        "id": "0DbkbY46T690",
        "colab": {
          "base_uri": "https://localhost:8080/"
        },
        "outputId": "716acee2-c851-4411-ab17-f37a5b2462dc"
      },
      "source": [
        "round(123.456)"
      ],
      "execution_count": null,
      "outputs": [
        {
          "output_type": "execute_result",
          "data": {
            "text/plain": [
              "123"
            ]
          },
          "metadata": {},
          "execution_count": 28
        }
      ]
    },
    {
      "cell_type": "code",
      "metadata": {
        "id": "F6x7JS7fT690",
        "colab": {
          "base_uri": "https://localhost:8080/"
        },
        "outputId": "83fa8715-b502-48a3-e4d8-ac896d40f135"
      },
      "source": [
        "round(123.456, 1)"
      ],
      "execution_count": null,
      "outputs": [
        {
          "output_type": "execute_result",
          "data": {
            "text/plain": [
              "123.5"
            ]
          },
          "metadata": {},
          "execution_count": 29
        }
      ]
    },
    {
      "cell_type": "code",
      "metadata": {
        "id": "dxF45I78T690",
        "colab": {
          "base_uri": "https://localhost:8080/"
        },
        "outputId": "cefdc2e1-457d-4e53-8db1-49e9172141c4"
      },
      "source": [
        "round(123.456, ndigits=1)"
      ],
      "execution_count": null,
      "outputs": [
        {
          "output_type": "execute_result",
          "data": {
            "text/plain": [
              "123.5"
            ]
          },
          "metadata": {},
          "execution_count": 30
        }
      ]
    },
    {
      "cell_type": "markdown",
      "metadata": {
        "id": "LcBiPGW2T690"
      },
      "source": [
        "## Tables ##"
      ]
    },
    {
      "cell_type": "code",
      "metadata": {
        "id": "SpB-FvaeT690",
        "colab": {
          "base_uri": "https://localhost:8080/",
          "height": 237
        },
        "outputId": "f98ffdad-8aba-4b71-c77c-f8c13d3e3693"
      },
      "source": [
        "cones = Table.read_table('https://raw.githubusercontent.com/ds-modules/Colab-demo/main/lec/cones.csv')\n",
        "cones"
      ],
      "execution_count": null,
      "outputs": [
        {
          "output_type": "execute_result",
          "data": {
            "text/plain": [
              "Flavor     | Color       | Price\n",
              "strawberry | pink        | 3.55\n",
              "chocolate  | light brown | 4.75\n",
              "chocolate  | dark brown  | 5.25\n",
              "strawberry | pink        | 5.25\n",
              "chocolate  | dark brown  | 5.25\n",
              "bubblegum  | pink        | 4.75"
            ],
            "text/html": [
              "<table border=\"1\" class=\"dataframe\">\n",
              "    <thead>\n",
              "        <tr>\n",
              "            <th>Flavor</th> <th>Color</th> <th>Price</th>\n",
              "        </tr>\n",
              "    </thead>\n",
              "    <tbody>\n",
              "        <tr>\n",
              "            <td>strawberry</td> <td>pink       </td> <td>3.55 </td>\n",
              "        </tr>\n",
              "        <tr>\n",
              "            <td>chocolate </td> <td>light brown</td> <td>4.75 </td>\n",
              "        </tr>\n",
              "        <tr>\n",
              "            <td>chocolate </td> <td>dark brown </td> <td>5.25 </td>\n",
              "        </tr>\n",
              "        <tr>\n",
              "            <td>strawberry</td> <td>pink       </td> <td>5.25 </td>\n",
              "        </tr>\n",
              "        <tr>\n",
              "            <td>chocolate </td> <td>dark brown </td> <td>5.25 </td>\n",
              "        </tr>\n",
              "        <tr>\n",
              "            <td>bubblegum </td> <td>pink       </td> <td>4.75 </td>\n",
              "        </tr>\n",
              "    </tbody>\n",
              "</table>"
            ]
          },
          "metadata": {},
          "execution_count": 31
        }
      ]
    },
    {
      "cell_type": "code",
      "metadata": {
        "id": "hnu38bpYT690",
        "colab": {
          "base_uri": "https://localhost:8080/",
          "height": 173
        },
        "outputId": "374a4b32-fd13-4998-8401-fd646cd53149"
      },
      "source": [
        "cones.show(3)"
      ],
      "execution_count": null,
      "outputs": [
        {
          "output_type": "display_data",
          "data": {
            "text/plain": [
              "<IPython.core.display.HTML object>"
            ],
            "text/html": [
              "<table border=\"1\" class=\"dataframe\">\n",
              "    <thead>\n",
              "        <tr>\n",
              "            <th>Flavor</th> <th>Color</th> <th>Price</th>\n",
              "        </tr>\n",
              "    </thead>\n",
              "    <tbody>\n",
              "        <tr>\n",
              "            <td>strawberry</td> <td>pink       </td> <td>3.55 </td>\n",
              "        </tr>\n",
              "        <tr>\n",
              "            <td>chocolate </td> <td>light brown</td> <td>4.75 </td>\n",
              "        </tr>\n",
              "        <tr>\n",
              "            <td>chocolate </td> <td>dark brown </td> <td>5.25 </td>\n",
              "        </tr>\n",
              "    </tbody>\n",
              "</table>\n",
              "<p>... (3 rows omitted)</p>"
            ]
          },
          "metadata": {}
        }
      ]
    },
    {
      "cell_type": "code",
      "metadata": {
        "id": "zVtYlzLNT691",
        "colab": {
          "base_uri": "https://localhost:8080/",
          "height": 237
        },
        "outputId": "049ac2fa-3236-43fd-98b7-d90129ad9f40"
      },
      "source": [
        "cones.show()"
      ],
      "execution_count": null,
      "outputs": [
        {
          "output_type": "display_data",
          "data": {
            "text/plain": [
              "<IPython.core.display.HTML object>"
            ],
            "text/html": [
              "<table border=\"1\" class=\"dataframe\">\n",
              "    <thead>\n",
              "        <tr>\n",
              "            <th>Flavor</th> <th>Color</th> <th>Price</th>\n",
              "        </tr>\n",
              "    </thead>\n",
              "    <tbody>\n",
              "        <tr>\n",
              "            <td>strawberry</td> <td>pink       </td> <td>3.55 </td>\n",
              "        </tr>\n",
              "        <tr>\n",
              "            <td>chocolate </td> <td>light brown</td> <td>4.75 </td>\n",
              "        </tr>\n",
              "        <tr>\n",
              "            <td>chocolate </td> <td>dark brown </td> <td>5.25 </td>\n",
              "        </tr>\n",
              "        <tr>\n",
              "            <td>strawberry</td> <td>pink       </td> <td>5.25 </td>\n",
              "        </tr>\n",
              "        <tr>\n",
              "            <td>chocolate </td> <td>dark brown </td> <td>5.25 </td>\n",
              "        </tr>\n",
              "        <tr>\n",
              "            <td>bubblegum </td> <td>pink       </td> <td>4.75 </td>\n",
              "        </tr>\n",
              "    </tbody>\n",
              "</table>"
            ]
          },
          "metadata": {}
        }
      ]
    },
    {
      "cell_type": "code",
      "metadata": {
        "id": "gwBjL4UiT691",
        "colab": {
          "base_uri": "https://localhost:8080/",
          "height": 237
        },
        "outputId": "af0406bc-f5d3-44ee-ff82-7cea98be0659"
      },
      "source": [
        "cones.select('Flavor')"
      ],
      "execution_count": null,
      "outputs": [
        {
          "output_type": "execute_result",
          "data": {
            "text/plain": [
              "Flavor\n",
              "strawberry\n",
              "chocolate\n",
              "chocolate\n",
              "strawberry\n",
              "chocolate\n",
              "bubblegum"
            ],
            "text/html": [
              "<table border=\"1\" class=\"dataframe\">\n",
              "    <thead>\n",
              "        <tr>\n",
              "            <th>Flavor</th>\n",
              "        </tr>\n",
              "    </thead>\n",
              "    <tbody>\n",
              "        <tr>\n",
              "            <td>strawberry</td>\n",
              "        </tr>\n",
              "        <tr>\n",
              "            <td>chocolate </td>\n",
              "        </tr>\n",
              "        <tr>\n",
              "            <td>chocolate </td>\n",
              "        </tr>\n",
              "        <tr>\n",
              "            <td>strawberry</td>\n",
              "        </tr>\n",
              "        <tr>\n",
              "            <td>chocolate </td>\n",
              "        </tr>\n",
              "        <tr>\n",
              "            <td>bubblegum </td>\n",
              "        </tr>\n",
              "    </tbody>\n",
              "</table>"
            ]
          },
          "metadata": {},
          "execution_count": 34
        }
      ]
    },
    {
      "cell_type": "code",
      "metadata": {
        "id": "5bYTrRTTT691",
        "colab": {
          "base_uri": "https://localhost:8080/",
          "height": 237
        },
        "outputId": "990d5ebe-bc6e-4911-a4a6-67d8050803f0"
      },
      "source": [
        "cones.select('Flavor', 'Price')"
      ],
      "execution_count": null,
      "outputs": [
        {
          "output_type": "execute_result",
          "data": {
            "text/plain": [
              "Flavor     | Price\n",
              "strawberry | 3.55\n",
              "chocolate  | 4.75\n",
              "chocolate  | 5.25\n",
              "strawberry | 5.25\n",
              "chocolate  | 5.25\n",
              "bubblegum  | 4.75"
            ],
            "text/html": [
              "<table border=\"1\" class=\"dataframe\">\n",
              "    <thead>\n",
              "        <tr>\n",
              "            <th>Flavor</th> <th>Price</th>\n",
              "        </tr>\n",
              "    </thead>\n",
              "    <tbody>\n",
              "        <tr>\n",
              "            <td>strawberry</td> <td>3.55 </td>\n",
              "        </tr>\n",
              "        <tr>\n",
              "            <td>chocolate </td> <td>4.75 </td>\n",
              "        </tr>\n",
              "        <tr>\n",
              "            <td>chocolate </td> <td>5.25 </td>\n",
              "        </tr>\n",
              "        <tr>\n",
              "            <td>strawberry</td> <td>5.25 </td>\n",
              "        </tr>\n",
              "        <tr>\n",
              "            <td>chocolate </td> <td>5.25 </td>\n",
              "        </tr>\n",
              "        <tr>\n",
              "            <td>bubblegum </td> <td>4.75 </td>\n",
              "        </tr>\n",
              "    </tbody>\n",
              "</table>"
            ]
          },
          "metadata": {},
          "execution_count": 35
        }
      ]
    },
    {
      "cell_type": "code",
      "metadata": {
        "id": "zwUBPkBrT691",
        "colab": {
          "base_uri": "https://localhost:8080/",
          "height": 166
        },
        "outputId": "2c409300-301f-4570-bf2d-632c20eba020"
      },
      "source": [
        "cones.select(Flavor, 'Price')"
      ],
      "execution_count": null,
      "outputs": [
        {
          "output_type": "error",
          "ename": "NameError",
          "evalue": "ignored",
          "traceback": [
            "\u001b[0;31m---------------------------------------------------------------------------\u001b[0m",
            "\u001b[0;31mNameError\u001b[0m                                 Traceback (most recent call last)",
            "\u001b[0;32m<ipython-input-37-90b78adc5c4e>\u001b[0m in \u001b[0;36m<module>\u001b[0;34m\u001b[0m\n\u001b[0;32m----> 1\u001b[0;31m \u001b[0mcones\u001b[0m\u001b[0;34m.\u001b[0m\u001b[0mselect\u001b[0m\u001b[0;34m(\u001b[0m\u001b[0mFlavor\u001b[0m\u001b[0;34m,\u001b[0m \u001b[0;34m'Price'\u001b[0m\u001b[0;34m)\u001b[0m\u001b[0;34m\u001b[0m\u001b[0;34m\u001b[0m\u001b[0m\n\u001b[0m",
            "\u001b[0;31mNameError\u001b[0m: name 'Flavor' is not defined"
          ]
        }
      ]
    },
    {
      "cell_type": "code",
      "metadata": {
        "id": "mQCYHbW4T691",
        "colab": {
          "base_uri": "https://localhost:8080/",
          "height": 237
        },
        "outputId": "8d02dd37-03f6-4681-fe4d-7bbc724d1b1e"
      },
      "source": [
        "cones.drop('Price')"
      ],
      "execution_count": null,
      "outputs": [
        {
          "output_type": "execute_result",
          "data": {
            "text/plain": [
              "Flavor     | Color\n",
              "strawberry | pink\n",
              "chocolate  | light brown\n",
              "chocolate  | dark brown\n",
              "strawberry | pink\n",
              "chocolate  | dark brown\n",
              "bubblegum  | pink"
            ],
            "text/html": [
              "<table border=\"1\" class=\"dataframe\">\n",
              "    <thead>\n",
              "        <tr>\n",
              "            <th>Flavor</th> <th>Color</th>\n",
              "        </tr>\n",
              "    </thead>\n",
              "    <tbody>\n",
              "        <tr>\n",
              "            <td>strawberry</td> <td>pink       </td>\n",
              "        </tr>\n",
              "        <tr>\n",
              "            <td>chocolate </td> <td>light brown</td>\n",
              "        </tr>\n",
              "        <tr>\n",
              "            <td>chocolate </td> <td>dark brown </td>\n",
              "        </tr>\n",
              "        <tr>\n",
              "            <td>strawberry</td> <td>pink       </td>\n",
              "        </tr>\n",
              "        <tr>\n",
              "            <td>chocolate </td> <td>dark brown </td>\n",
              "        </tr>\n",
              "        <tr>\n",
              "            <td>bubblegum </td> <td>pink       </td>\n",
              "        </tr>\n",
              "    </tbody>\n",
              "</table>"
            ]
          },
          "metadata": {},
          "execution_count": 38
        }
      ]
    },
    {
      "cell_type": "code",
      "metadata": {
        "id": "P6ra3kSYT691",
        "colab": {
          "base_uri": "https://localhost:8080/",
          "height": 237
        },
        "outputId": "ce54eaf9-666f-4fd6-f697-9ed4f0b81451"
      },
      "source": [
        "cones"
      ],
      "execution_count": null,
      "outputs": [
        {
          "output_type": "execute_result",
          "data": {
            "text/plain": [
              "Flavor     | Color       | Price\n",
              "strawberry | pink        | 3.55\n",
              "chocolate  | light brown | 4.75\n",
              "chocolate  | dark brown  | 5.25\n",
              "strawberry | pink        | 5.25\n",
              "chocolate  | dark brown  | 5.25\n",
              "bubblegum  | pink        | 4.75"
            ],
            "text/html": [
              "<table border=\"1\" class=\"dataframe\">\n",
              "    <thead>\n",
              "        <tr>\n",
              "            <th>Flavor</th> <th>Color</th> <th>Price</th>\n",
              "        </tr>\n",
              "    </thead>\n",
              "    <tbody>\n",
              "        <tr>\n",
              "            <td>strawberry</td> <td>pink       </td> <td>3.55 </td>\n",
              "        </tr>\n",
              "        <tr>\n",
              "            <td>chocolate </td> <td>light brown</td> <td>4.75 </td>\n",
              "        </tr>\n",
              "        <tr>\n",
              "            <td>chocolate </td> <td>dark brown </td> <td>5.25 </td>\n",
              "        </tr>\n",
              "        <tr>\n",
              "            <td>strawberry</td> <td>pink       </td> <td>5.25 </td>\n",
              "        </tr>\n",
              "        <tr>\n",
              "            <td>chocolate </td> <td>dark brown </td> <td>5.25 </td>\n",
              "        </tr>\n",
              "        <tr>\n",
              "            <td>bubblegum </td> <td>pink       </td> <td>4.75 </td>\n",
              "        </tr>\n",
              "    </tbody>\n",
              "</table>"
            ]
          },
          "metadata": {},
          "execution_count": 39
        }
      ]
    },
    {
      "cell_type": "code",
      "metadata": {
        "id": "XViAeLUyT691",
        "colab": {
          "base_uri": "https://localhost:8080/",
          "height": 237
        },
        "outputId": "e632ffca-40b2-4944-bf01-35b1d31ff6a9"
      },
      "source": [
        "cones_without_price = cones.drop('Price')\n",
        "cones_without_price"
      ],
      "execution_count": null,
      "outputs": [
        {
          "output_type": "execute_result",
          "data": {
            "text/plain": [
              "Flavor     | Color\n",
              "strawberry | pink\n",
              "chocolate  | light brown\n",
              "chocolate  | dark brown\n",
              "strawberry | pink\n",
              "chocolate  | dark brown\n",
              "bubblegum  | pink"
            ],
            "text/html": [
              "<table border=\"1\" class=\"dataframe\">\n",
              "    <thead>\n",
              "        <tr>\n",
              "            <th>Flavor</th> <th>Color</th>\n",
              "        </tr>\n",
              "    </thead>\n",
              "    <tbody>\n",
              "        <tr>\n",
              "            <td>strawberry</td> <td>pink       </td>\n",
              "        </tr>\n",
              "        <tr>\n",
              "            <td>chocolate </td> <td>light brown</td>\n",
              "        </tr>\n",
              "        <tr>\n",
              "            <td>chocolate </td> <td>dark brown </td>\n",
              "        </tr>\n",
              "        <tr>\n",
              "            <td>strawberry</td> <td>pink       </td>\n",
              "        </tr>\n",
              "        <tr>\n",
              "            <td>chocolate </td> <td>dark brown </td>\n",
              "        </tr>\n",
              "        <tr>\n",
              "            <td>bubblegum </td> <td>pink       </td>\n",
              "        </tr>\n",
              "    </tbody>\n",
              "</table>"
            ]
          },
          "metadata": {},
          "execution_count": 40
        }
      ]
    },
    {
      "cell_type": "code",
      "metadata": {
        "scrolled": true,
        "id": "dqQB8_E4T692",
        "colab": {
          "base_uri": "https://localhost:8080/",
          "height": 143
        },
        "outputId": "73343815-81fc-45e3-f85c-d2a794580026"
      },
      "source": [
        "cones.where('Flavor', 'chocolate')"
      ],
      "execution_count": null,
      "outputs": [
        {
          "output_type": "execute_result",
          "data": {
            "text/plain": [
              "Flavor    | Color       | Price\n",
              "chocolate | light brown | 4.75\n",
              "chocolate | dark brown  | 5.25\n",
              "chocolate | dark brown  | 5.25"
            ],
            "text/html": [
              "<table border=\"1\" class=\"dataframe\">\n",
              "    <thead>\n",
              "        <tr>\n",
              "            <th>Flavor</th> <th>Color</th> <th>Price</th>\n",
              "        </tr>\n",
              "    </thead>\n",
              "    <tbody>\n",
              "        <tr>\n",
              "            <td>chocolate</td> <td>light brown</td> <td>4.75 </td>\n",
              "        </tr>\n",
              "        <tr>\n",
              "            <td>chocolate</td> <td>dark brown </td> <td>5.25 </td>\n",
              "        </tr>\n",
              "        <tr>\n",
              "            <td>chocolate</td> <td>dark brown </td> <td>5.25 </td>\n",
              "        </tr>\n",
              "    </tbody>\n",
              "</table>"
            ]
          },
          "metadata": {},
          "execution_count": 41
        }
      ]
    },
    {
      "cell_type": "code",
      "metadata": {
        "id": "XqRbMtmIT692",
        "colab": {
          "base_uri": "https://localhost:8080/",
          "height": 237
        },
        "outputId": "ab8543c3-ad37-4328-c397-a79c10035e0c"
      },
      "source": [
        "cones.sort('Price')"
      ],
      "execution_count": null,
      "outputs": [
        {
          "output_type": "execute_result",
          "data": {
            "text/plain": [
              "Flavor     | Color       | Price\n",
              "strawberry | pink        | 3.55\n",
              "chocolate  | light brown | 4.75\n",
              "bubblegum  | pink        | 4.75\n",
              "chocolate  | dark brown  | 5.25\n",
              "strawberry | pink        | 5.25\n",
              "chocolate  | dark brown  | 5.25"
            ],
            "text/html": [
              "<table border=\"1\" class=\"dataframe\">\n",
              "    <thead>\n",
              "        <tr>\n",
              "            <th>Flavor</th> <th>Color</th> <th>Price</th>\n",
              "        </tr>\n",
              "    </thead>\n",
              "    <tbody>\n",
              "        <tr>\n",
              "            <td>strawberry</td> <td>pink       </td> <td>3.55 </td>\n",
              "        </tr>\n",
              "        <tr>\n",
              "            <td>chocolate </td> <td>light brown</td> <td>4.75 </td>\n",
              "        </tr>\n",
              "        <tr>\n",
              "            <td>bubblegum </td> <td>pink       </td> <td>4.75 </td>\n",
              "        </tr>\n",
              "        <tr>\n",
              "            <td>chocolate </td> <td>dark brown </td> <td>5.25 </td>\n",
              "        </tr>\n",
              "        <tr>\n",
              "            <td>strawberry</td> <td>pink       </td> <td>5.25 </td>\n",
              "        </tr>\n",
              "        <tr>\n",
              "            <td>chocolate </td> <td>dark brown </td> <td>5.25 </td>\n",
              "        </tr>\n",
              "    </tbody>\n",
              "</table>"
            ]
          },
          "metadata": {},
          "execution_count": 42
        }
      ]
    },
    {
      "cell_type": "code",
      "metadata": {
        "scrolled": true,
        "id": "2f_F8R-vT692",
        "colab": {
          "base_uri": "https://localhost:8080/",
          "height": 237
        },
        "outputId": "9f6ed73e-599a-4e92-f40a-b6e318d849cd"
      },
      "source": [
        "cones.sort('Price', descending=True)"
      ],
      "execution_count": null,
      "outputs": [
        {
          "output_type": "execute_result",
          "data": {
            "text/plain": [
              "Flavor     | Color       | Price\n",
              "chocolate  | dark brown  | 5.25\n",
              "strawberry | pink        | 5.25\n",
              "chocolate  | dark brown  | 5.25\n",
              "chocolate  | light brown | 4.75\n",
              "bubblegum  | pink        | 4.75\n",
              "strawberry | pink        | 3.55"
            ],
            "text/html": [
              "<table border=\"1\" class=\"dataframe\">\n",
              "    <thead>\n",
              "        <tr>\n",
              "            <th>Flavor</th> <th>Color</th> <th>Price</th>\n",
              "        </tr>\n",
              "    </thead>\n",
              "    <tbody>\n",
              "        <tr>\n",
              "            <td>chocolate </td> <td>dark brown </td> <td>5.25 </td>\n",
              "        </tr>\n",
              "        <tr>\n",
              "            <td>strawberry</td> <td>pink       </td> <td>5.25 </td>\n",
              "        </tr>\n",
              "        <tr>\n",
              "            <td>chocolate </td> <td>dark brown </td> <td>5.25 </td>\n",
              "        </tr>\n",
              "        <tr>\n",
              "            <td>chocolate </td> <td>light brown</td> <td>4.75 </td>\n",
              "        </tr>\n",
              "        <tr>\n",
              "            <td>bubblegum </td> <td>pink       </td> <td>4.75 </td>\n",
              "        </tr>\n",
              "        <tr>\n",
              "            <td>strawberry</td> <td>pink       </td> <td>3.55 </td>\n",
              "        </tr>\n",
              "    </tbody>\n",
              "</table>"
            ]
          },
          "metadata": {},
          "execution_count": 43
        }
      ]
    },
    {
      "cell_type": "code",
      "metadata": {
        "id": "x84xfvj2T692",
        "colab": {
          "base_uri": "https://localhost:8080/",
          "height": 237
        },
        "outputId": "371f448b-136b-4339-d23a-3d66b62a9220"
      },
      "source": [
        "cones.sort('Flavor', descending=True)"
      ],
      "execution_count": null,
      "outputs": [
        {
          "output_type": "execute_result",
          "data": {
            "text/plain": [
              "Flavor     | Color       | Price\n",
              "strawberry | pink        | 3.55\n",
              "strawberry | pink        | 5.25\n",
              "chocolate  | light brown | 4.75\n",
              "chocolate  | dark brown  | 5.25\n",
              "chocolate  | dark brown  | 5.25\n",
              "bubblegum  | pink        | 4.75"
            ],
            "text/html": [
              "<table border=\"1\" class=\"dataframe\">\n",
              "    <thead>\n",
              "        <tr>\n",
              "            <th>Flavor</th> <th>Color</th> <th>Price</th>\n",
              "        </tr>\n",
              "    </thead>\n",
              "    <tbody>\n",
              "        <tr>\n",
              "            <td>strawberry</td> <td>pink       </td> <td>3.55 </td>\n",
              "        </tr>\n",
              "        <tr>\n",
              "            <td>strawberry</td> <td>pink       </td> <td>5.25 </td>\n",
              "        </tr>\n",
              "        <tr>\n",
              "            <td>chocolate </td> <td>light brown</td> <td>4.75 </td>\n",
              "        </tr>\n",
              "        <tr>\n",
              "            <td>chocolate </td> <td>dark brown </td> <td>5.25 </td>\n",
              "        </tr>\n",
              "        <tr>\n",
              "            <td>chocolate </td> <td>dark brown </td> <td>5.25 </td>\n",
              "        </tr>\n",
              "        <tr>\n",
              "            <td>bubblegum </td> <td>pink       </td> <td>4.75 </td>\n",
              "        </tr>\n",
              "    </tbody>\n",
              "</table>"
            ]
          },
          "metadata": {},
          "execution_count": 44
        }
      ]
    },
    {
      "cell_type": "markdown",
      "metadata": {
        "id": "AeBikzRyT693"
      },
      "source": [
        "### A more interesting table"
      ]
    },
    {
      "cell_type": "code",
      "metadata": {
        "id": "MkiPwcoZT693",
        "colab": {
          "base_uri": "https://localhost:8080/",
          "height": 392
        },
        "outputId": "f1cae102-f4ed-4c28-c0a3-a2147ee91207"
      },
      "source": [
        "skyscrapers = Table.read_table('https://raw.githubusercontent.com/ds-modules/Colab-demo/main/lec/skyscrapers.csv')\n",
        "skyscrapers"
      ],
      "execution_count": null,
      "outputs": [
        {
          "output_type": "execute_result",
          "data": {
            "text/plain": [
              "name                              | material  | city          | height | completed\n",
              "One World Trade Center            | composite | New York City | 541.3  | 2014\n",
              "Willis Tower                      | steel     | Chicago       | 442.14 | 1974\n",
              "432 Park Avenue                   | concrete  | New York City | 425.5  | 2015\n",
              "Trump International Hotel & Tower | concrete  | Chicago       | 423.22 | 2009\n",
              "Empire State Building             | steel     | New York City | 381    | 1931\n",
              "Bank of America Tower             | composite | New York City | 365.8  | 2009\n",
              "Stratosphere Tower                | concrete  | Las Vegas     | 350.22 | 1996\n",
              "Aon Center                        | steel     | Chicago       | 346.26 | 1973\n",
              "John Hancock Center               | steel     | Chicago       | 343.69 | 1969\n",
              "WITI TV Tower                     | steel     | Shorewood     | 329    | 1962\n",
              "... (190 rows omitted)"
            ],
            "text/html": [
              "<table border=\"1\" class=\"dataframe\">\n",
              "    <thead>\n",
              "        <tr>\n",
              "            <th>name</th> <th>material</th> <th>city</th> <th>height</th> <th>completed</th>\n",
              "        </tr>\n",
              "    </thead>\n",
              "    <tbody>\n",
              "        <tr>\n",
              "            <td>One World Trade Center           </td> <td>composite</td> <td>New York City</td> <td>541.3 </td> <td>2014     </td>\n",
              "        </tr>\n",
              "        <tr>\n",
              "            <td>Willis Tower                     </td> <td>steel    </td> <td>Chicago      </td> <td>442.14</td> <td>1974     </td>\n",
              "        </tr>\n",
              "        <tr>\n",
              "            <td>432 Park Avenue                  </td> <td>concrete </td> <td>New York City</td> <td>425.5 </td> <td>2015     </td>\n",
              "        </tr>\n",
              "        <tr>\n",
              "            <td>Trump International Hotel & Tower</td> <td>concrete </td> <td>Chicago      </td> <td>423.22</td> <td>2009     </td>\n",
              "        </tr>\n",
              "        <tr>\n",
              "            <td>Empire State Building            </td> <td>steel    </td> <td>New York City</td> <td>381   </td> <td>1931     </td>\n",
              "        </tr>\n",
              "        <tr>\n",
              "            <td>Bank of America Tower            </td> <td>composite</td> <td>New York City</td> <td>365.8 </td> <td>2009     </td>\n",
              "        </tr>\n",
              "        <tr>\n",
              "            <td>Stratosphere Tower               </td> <td>concrete </td> <td>Las Vegas    </td> <td>350.22</td> <td>1996     </td>\n",
              "        </tr>\n",
              "        <tr>\n",
              "            <td>Aon Center                       </td> <td>steel    </td> <td>Chicago      </td> <td>346.26</td> <td>1973     </td>\n",
              "        </tr>\n",
              "        <tr>\n",
              "            <td>John Hancock Center              </td> <td>steel    </td> <td>Chicago      </td> <td>343.69</td> <td>1969     </td>\n",
              "        </tr>\n",
              "        <tr>\n",
              "            <td>WITI TV Tower                    </td> <td>steel    </td> <td>Shorewood    </td> <td>329   </td> <td>1962     </td>\n",
              "        </tr>\n",
              "    </tbody>\n",
              "</table>\n",
              "<p>... (190 rows omitted)</p>"
            ]
          },
          "metadata": {},
          "execution_count": 45
        }
      ]
    },
    {
      "cell_type": "code",
      "metadata": {
        "id": "Mx5njPRmT693",
        "colab": {
          "base_uri": "https://localhost:8080/",
          "height": 392
        },
        "outputId": "f74e7bc2-869f-4b29-9111-2d592fedc330"
      },
      "source": [
        "skyscrapers.where('city', 'Los Angeles')"
      ],
      "execution_count": null,
      "outputs": [
        {
          "output_type": "execute_result",
          "data": {
            "text/plain": [
              "name                  | material | city        | height | completed\n",
              "U.S. Bank Tower       | steel    | Los Angeles | 310.29 | 1990\n",
              "Aon Center            | steel    | Los Angeles | 261.52 | 1974\n",
              "Two California Plaza  | steel    | Los Angeles | 228.6  | 1992\n",
              "Gas Company Tower     | steel    | Los Angeles | 228.3  | 1991\n",
              "Bank of America Plaza | steel    | Los Angeles | 224.03 | 1975\n",
              "777 Tower             | steel    | Los Angeles | 221    | 1991\n",
              "Wells Fargo Tower     | steel    | Los Angeles | 220.37 | 1983\n",
              "Figueroa at Wilshire  | steel    | Los Angeles | 218.54 | 1989\n",
              "City National Tower   | steel    | Los Angeles | 213.06 | 1971\n",
              "Paul Hastings Tower   | steel    | Los Angeles | 213.06 | 1971\n",
              "... (1 rows omitted)"
            ],
            "text/html": [
              "<table border=\"1\" class=\"dataframe\">\n",
              "    <thead>\n",
              "        <tr>\n",
              "            <th>name</th> <th>material</th> <th>city</th> <th>height</th> <th>completed</th>\n",
              "        </tr>\n",
              "    </thead>\n",
              "    <tbody>\n",
              "        <tr>\n",
              "            <td>U.S. Bank Tower      </td> <td>steel   </td> <td>Los Angeles</td> <td>310.29</td> <td>1990     </td>\n",
              "        </tr>\n",
              "        <tr>\n",
              "            <td>Aon Center           </td> <td>steel   </td> <td>Los Angeles</td> <td>261.52</td> <td>1974     </td>\n",
              "        </tr>\n",
              "        <tr>\n",
              "            <td>Two California Plaza </td> <td>steel   </td> <td>Los Angeles</td> <td>228.6 </td> <td>1992     </td>\n",
              "        </tr>\n",
              "        <tr>\n",
              "            <td>Gas Company Tower    </td> <td>steel   </td> <td>Los Angeles</td> <td>228.3 </td> <td>1991     </td>\n",
              "        </tr>\n",
              "        <tr>\n",
              "            <td>Bank of America Plaza</td> <td>steel   </td> <td>Los Angeles</td> <td>224.03</td> <td>1975     </td>\n",
              "        </tr>\n",
              "        <tr>\n",
              "            <td>777 Tower            </td> <td>steel   </td> <td>Los Angeles</td> <td>221   </td> <td>1991     </td>\n",
              "        </tr>\n",
              "        <tr>\n",
              "            <td>Wells Fargo Tower    </td> <td>steel   </td> <td>Los Angeles</td> <td>220.37</td> <td>1983     </td>\n",
              "        </tr>\n",
              "        <tr>\n",
              "            <td>Figueroa at Wilshire </td> <td>steel   </td> <td>Los Angeles</td> <td>218.54</td> <td>1989     </td>\n",
              "        </tr>\n",
              "        <tr>\n",
              "            <td>City National Tower  </td> <td>steel   </td> <td>Los Angeles</td> <td>213.06</td> <td>1971     </td>\n",
              "        </tr>\n",
              "        <tr>\n",
              "            <td>Paul Hastings Tower  </td> <td>steel   </td> <td>Los Angeles</td> <td>213.06</td> <td>1971     </td>\n",
              "        </tr>\n",
              "    </tbody>\n",
              "</table>\n",
              "<p>... (1 rows omitted)</p>"
            ]
          },
          "metadata": {},
          "execution_count": 46
        }
      ]
    },
    {
      "cell_type": "code",
      "metadata": {
        "id": "UtHVTuEKT693",
        "colab": {
          "base_uri": "https://localhost:8080/",
          "height": 81
        },
        "outputId": "0b1ba54f-a735-4716-874b-b6630e004e82"
      },
      "source": [
        "skyscrapers.where('name', 'Empire State Building')"
      ],
      "execution_count": null,
      "outputs": [
        {
          "output_type": "execute_result",
          "data": {
            "text/plain": [
              "name                  | material | city          | height | completed\n",
              "Empire State Building | steel    | New York City | 381    | 1931"
            ],
            "text/html": [
              "<table border=\"1\" class=\"dataframe\">\n",
              "    <thead>\n",
              "        <tr>\n",
              "            <th>name</th> <th>material</th> <th>city</th> <th>height</th> <th>completed</th>\n",
              "        </tr>\n",
              "    </thead>\n",
              "    <tbody>\n",
              "        <tr>\n",
              "            <td>Empire State Building</td> <td>steel   </td> <td>New York City</td> <td>381   </td> <td>1931     </td>\n",
              "        </tr>\n",
              "    </tbody>\n",
              "</table>"
            ]
          },
          "metadata": {},
          "execution_count": 47
        }
      ]
    },
    {
      "cell_type": "code",
      "metadata": {
        "id": "1buqwPAKT693",
        "colab": {
          "base_uri": "https://localhost:8080/",
          "height": 392
        },
        "outputId": "a519e689-b149-4db0-82f7-4242e16d63de"
      },
      "source": [
        "skyscrapers.where('city', 'New York City').sort('completed')"
      ],
      "execution_count": null,
      "outputs": [
        {
          "output_type": "execute_result",
          "data": {
            "text/plain": [
              "name                    | material | city          | height | completed\n",
              "Metropolitan Life Tower | steel    | New York City | 213.36 | 1909\n",
              "Woolworth Building      | steel    | New York City | 241.4  | 1913\n",
              "Chanin Building         | steel    | New York City | 197.8  | 1929\n",
              "Mercantile Building     | steel    | New York City | 192.6  | 1929\n",
              "Chrysler Building       | steel    | New York City | 318.9  | 1930\n",
              "The Trump Building      | steel    | New York City | 282.55 | 1930\n",
              "One Grand Central Place | steel    | New York City | 205.13 | 1930\n",
              "Empire State Building   | steel    | New York City | 381    | 1931\n",
              "Twenty Exchange         | steel    | New York City | 225.86 | 1931\n",
              "500 Fifth Avenue        | steel    | New York City | 212.45 | 1931\n",
              "... (63 rows omitted)"
            ],
            "text/html": [
              "<table border=\"1\" class=\"dataframe\">\n",
              "    <thead>\n",
              "        <tr>\n",
              "            <th>name</th> <th>material</th> <th>city</th> <th>height</th> <th>completed</th>\n",
              "        </tr>\n",
              "    </thead>\n",
              "    <tbody>\n",
              "        <tr>\n",
              "            <td>Metropolitan Life Tower</td> <td>steel   </td> <td>New York City</td> <td>213.36</td> <td>1909     </td>\n",
              "        </tr>\n",
              "        <tr>\n",
              "            <td>Woolworth Building     </td> <td>steel   </td> <td>New York City</td> <td>241.4 </td> <td>1913     </td>\n",
              "        </tr>\n",
              "        <tr>\n",
              "            <td>Chanin Building        </td> <td>steel   </td> <td>New York City</td> <td>197.8 </td> <td>1929     </td>\n",
              "        </tr>\n",
              "        <tr>\n",
              "            <td>Mercantile Building    </td> <td>steel   </td> <td>New York City</td> <td>192.6 </td> <td>1929     </td>\n",
              "        </tr>\n",
              "        <tr>\n",
              "            <td>Chrysler Building      </td> <td>steel   </td> <td>New York City</td> <td>318.9 </td> <td>1930     </td>\n",
              "        </tr>\n",
              "        <tr>\n",
              "            <td>The Trump Building     </td> <td>steel   </td> <td>New York City</td> <td>282.55</td> <td>1930     </td>\n",
              "        </tr>\n",
              "        <tr>\n",
              "            <td>One Grand Central Place</td> <td>steel   </td> <td>New York City</td> <td>205.13</td> <td>1930     </td>\n",
              "        </tr>\n",
              "        <tr>\n",
              "            <td>Empire State Building  </td> <td>steel   </td> <td>New York City</td> <td>381   </td> <td>1931     </td>\n",
              "        </tr>\n",
              "        <tr>\n",
              "            <td>Twenty Exchange        </td> <td>steel   </td> <td>New York City</td> <td>225.86</td> <td>1931     </td>\n",
              "        </tr>\n",
              "        <tr>\n",
              "            <td>500 Fifth Avenue       </td> <td>steel   </td> <td>New York City</td> <td>212.45</td> <td>1931     </td>\n",
              "        </tr>\n",
              "    </tbody>\n",
              "</table>\n",
              "<p>... (63 rows omitted)</p>"
            ]
          },
          "metadata": {},
          "execution_count": 48
        }
      ]
    },
    {
      "cell_type": "code",
      "metadata": {
        "id": "JeMliufIT693",
        "colab": {
          "base_uri": "https://localhost:8080/",
          "height": 392
        },
        "outputId": "f2b374b7-66f8-46e3-a1b2-295fd4814153"
      },
      "source": [
        "skyscrapers.where('city', 'New York City').sort('completed', descending=True)"
      ],
      "execution_count": null,
      "outputs": [
        {
          "output_type": "execute_result",
          "data": {
            "text/plain": [
              "name                                             | material       | city          | height | completed\n",
              "432 Park Avenue                                  | concrete       | New York City | 425.5  | 2015\n",
              "Sky                                              | concrete       | New York City | 206    | 2015\n",
              "One World Trade Center                           | composite      | New York City | 541.3  | 2014\n",
              "One57                                            | steel/concrete | New York City | 306.07 | 2014\n",
              "4 World Trade Center                             | composite      | New York City | 297.73 | 2014\n",
              "Courtyard & Residence Inn Manhattan/Central Park | concrete       | New York City | 229.62 | 2013\n",
              "Eight Spruce Street                              | concrete       | New York City | 265.18 | 2011\n",
              "1 MiMA Tower                                     | concrete       | New York City | 194.55 | 2011\n",
              "Goldman Sachs Headquarters                       | steel          | New York City | 228.3  | 2010\n",
              "Langham Place                                    | concrete       | New York City | 192.58 | 2010\n",
              "... (63 rows omitted)"
            ],
            "text/html": [
              "<table border=\"1\" class=\"dataframe\">\n",
              "    <thead>\n",
              "        <tr>\n",
              "            <th>name</th> <th>material</th> <th>city</th> <th>height</th> <th>completed</th>\n",
              "        </tr>\n",
              "    </thead>\n",
              "    <tbody>\n",
              "        <tr>\n",
              "            <td>432 Park Avenue                                 </td> <td>concrete      </td> <td>New York City</td> <td>425.5 </td> <td>2015     </td>\n",
              "        </tr>\n",
              "        <tr>\n",
              "            <td>Sky                                             </td> <td>concrete      </td> <td>New York City</td> <td>206   </td> <td>2015     </td>\n",
              "        </tr>\n",
              "        <tr>\n",
              "            <td>One World Trade Center                          </td> <td>composite     </td> <td>New York City</td> <td>541.3 </td> <td>2014     </td>\n",
              "        </tr>\n",
              "        <tr>\n",
              "            <td>One57                                           </td> <td>steel/concrete</td> <td>New York City</td> <td>306.07</td> <td>2014     </td>\n",
              "        </tr>\n",
              "        <tr>\n",
              "            <td>4 World Trade Center                            </td> <td>composite     </td> <td>New York City</td> <td>297.73</td> <td>2014     </td>\n",
              "        </tr>\n",
              "        <tr>\n",
              "            <td>Courtyard & Residence Inn Manhattan/Central Park</td> <td>concrete      </td> <td>New York City</td> <td>229.62</td> <td>2013     </td>\n",
              "        </tr>\n",
              "        <tr>\n",
              "            <td>Eight Spruce Street                             </td> <td>concrete      </td> <td>New York City</td> <td>265.18</td> <td>2011     </td>\n",
              "        </tr>\n",
              "        <tr>\n",
              "            <td>1 MiMA Tower                                    </td> <td>concrete      </td> <td>New York City</td> <td>194.55</td> <td>2011     </td>\n",
              "        </tr>\n",
              "        <tr>\n",
              "            <td>Goldman Sachs Headquarters                      </td> <td>steel         </td> <td>New York City</td> <td>228.3 </td> <td>2010     </td>\n",
              "        </tr>\n",
              "        <tr>\n",
              "            <td>Langham Place                                   </td> <td>concrete      </td> <td>New York City</td> <td>192.58</td> <td>2010     </td>\n",
              "        </tr>\n",
              "    </tbody>\n",
              "</table>\n",
              "<p>... (63 rows omitted)</p>"
            ]
          },
          "metadata": {},
          "execution_count": 49
        }
      ]
    },
    {
      "cell_type": "code",
      "metadata": {
        "id": "NwBnVdSUqt0G"
      },
      "source": [],
      "execution_count": null,
      "outputs": []
    }
  ]
}